{
 "cells": [
  {
   "cell_type": "code",
   "execution_count": null,
   "metadata": {},
   "outputs": [],
   "source": []
  },
  {
   "attachments": {},
   "cell_type": "markdown",
   "metadata": {},
   "source": []
  },
  {
   "cell_type": "code",
   "execution_count": 2,
   "metadata": {},
   "outputs": [
    {
     "name": "stdout",
     "output_type": "stream",
     "text": [
      "Int:\n",
      " data before pickling: 42\n",
      " data after pickling: b'\\x80\\x04K*.'\n",
      "Unpickled data: 42\n",
      "\n",
      "\n",
      "Float:\n",
      "Original data: 3.14\n",
      "Pickled data: b'\\x80\\x04\\x95\\n\\x00\\x00\\x00\\x00\\x00\\x00\\x00G@\\t\\x1e\\xb8Q\\xeb\\x85\\x1f.'\n",
      "Unpickled data: 3.14\n",
      "\n",
      "\n",
      "String:\n",
      "Original data: Sudha Vankayalapati\n",
      "Pickled data: b'\\x80\\x04\\x95\\x17\\x00\\x00\\x00\\x00\\x00\\x00\\x00\\x8c\\x13Sudha Vankayalapati\\x94.'\n",
      "Unpickled data: Sudha Vankayalapati\n",
      "\n",
      "\n",
      "List:\n",
      "Original data: [1, 2, 3, 4, 5]\n",
      "Pickled data: b'\\x80\\x04\\x95\\x0f\\x00\\x00\\x00\\x00\\x00\\x00\\x00]\\x94(K\\x01K\\x02K\\x03K\\x04K\\x05e.'\n",
      "Unpickled data: [1, 2, 3, 4, 5]\n",
      "\n",
      "\n",
      "Dictionary:\n",
      "Original data: {'name': 'Sudha', 'age': 30, 'city': 'India'}\n",
      "Pickled data: b'\\x80\\x04\\x95+\\x00\\x00\\x00\\x00\\x00\\x00\\x00}\\x94(\\x8c\\x04name\\x94\\x8c\\x05Sudha\\x94\\x8c\\x03age\\x94K\\x1e\\x8c\\x04city\\x94\\x8c\\x05India\\x94u.'\n",
      "Unpickled data: {'name': 'Sudha', 'age': 30, 'city': 'India'}\n"
     ]
    }
   ],
   "source": [
    "#Try all data types (basic and data structures) in python for pickling and unpickling\n",
    "\n",
    "import pickle\n",
    "\n",
    "data1 = 42\n",
    "print(\"Int:\")\n",
    "pickled_data1 = pickle.dumps(data1)\n",
    "unpickled_data1 = pickle.loads(pickled_data1)\n",
    "print(\" data before pickling:\", data1)\n",
    "print(\" data after pickling:\", pickled_data1)\n",
    "print(\"Unpickled data:\", unpickled_data1)\n",
    "print(\"\\n\")\n",
    "\n",
    "data2 = 3.14\n",
    "print(\"Float:\")\n",
    "pickled_data2 = pickle.dumps(data2)\n",
    "unpickled_data2 = pickle.loads(pickled_data2)\n",
    "print(\"Original data:\", data2)\n",
    "print(\"Pickled data:\", pickled_data2)\n",
    "print(\"Unpickled data:\", unpickled_data2)\n",
    "print(\"\\n\")\n",
    "\n",
    "data3 = \"Sudha Vankayalapati\"\n",
    "print(\"String:\")\n",
    "pickled_data3 = pickle.dumps(data3)\n",
    "unpickled_data3 = pickle.loads(pickled_data3)\n",
    "print(\"Original data:\", data3)\n",
    "print(\"Pickled data:\", pickled_data3)\n",
    "print(\"Unpickled data:\", unpickled_data3)\n",
    "print(\"\\n\")\n",
    "\n",
    "# Pickling and Unpickling data structures\n",
    "data4 = [1, 2, 3, 4, 5]\n",
    "print(\"List:\")\n",
    "pickled_data4 = pickle.dumps(data4)\n",
    "unpickled_data4 = pickle.loads(pickled_data4)\n",
    "print(\"Original data:\", data4)\n",
    "print(\"Pickled data:\", pickled_data4)\n",
    "print(\"Unpickled data:\", unpickled_data4)\n",
    "print(\"\\n\")\n",
    "\n",
    "data5 = {\"name\": \"Sudha\", \"age\": 30, \"city\": \"India\"}\n",
    "print(\"Dictionary:\")\n",
    "pickled_data5 = pickle.dumps(data5)\n",
    "unpickled_data5 = pickle.loads(pickled_data5)\n",
    "print(\"Original data:\", data5)\n",
    "print(\"Pickled data:\", pickled_data5)\n",
    "print(\"Unpickled data:\", unpickled_data5)"
   ]
  },
  {
   "attachments": {},
   "cell_type": "markdown",
   "metadata": {},
   "source": [
    "on what data types we cannot do pickling in python with example"
   ]
  },
  {
   "attachments": {},
   "cell_type": "markdown",
   "metadata": {},
   "source": [
    "File Objects: File objects that represent open files cannot be pickled. This is because pickling is focused on serializing data, and file objects are more complex and closely tied to the operating system."
   ]
  },
  {
   "cell_type": "code",
   "execution_count": null,
   "metadata": {},
   "outputs": [],
   "source": [
    "import pickle\n",
    "\n",
    "file_obj = open('example.txt', 'w')\n",
    "pickle.dump(file_obj, open('file.pkl', 'wb'))\n"
   ]
  },
  {
   "attachments": {},
   "cell_type": "markdown",
   "metadata": {},
   "source": [
    "Network Sockets: Similarly to file objects, network sockets cannot be pickled because they are tied to the underlying operating system and network state."
   ]
  },
  {
   "cell_type": "code",
   "execution_count": null,
   "metadata": {},
   "outputs": [],
   "source": [
    "import pickle\n",
    "import socket\n",
    "\n",
    "sock = socket.socket(socket.AF_INET, socket.SOCK_STREAM)\n",
    "pickle.dump(sock, open('socket.pkl', 'wb'))\n"
   ]
  },
  {
   "attachments": {},
   "cell_type": "markdown",
   "metadata": {},
   "source": [
    "Certain System Resources: Some system resources or objects tied to the underlying operating system cannot be pickled. Examples include open database connections, database cursors, operating system threads, and more. These objects are highly specific to the environment in which the code is running and cannot be serialized easily."
   ]
  },
  {
   "cell_type": "code",
   "execution_count": null,
   "metadata": {},
   "outputs": [],
   "source": [
    "import pickle\n",
    "import sqlite3\n",
    "\n",
    "conn = sqlite3.connect('example.db')\n",
    "pickle.dump(conn, open('connection.pkl', 'wb'))\n"
   ]
  }
 ],
 "metadata": {
  "kernelspec": {
   "display_name": "Python 3",
   "language": "python",
   "name": "python3"
  },
  "language_info": {
   "codemirror_mode": {
    "name": "ipython",
    "version": 3
   },
   "file_extension": ".py",
   "mimetype": "text/x-python",
   "name": "python",
   "nbconvert_exporter": "python",
   "pygments_lexer": "ipython3",
   "version": "3.10.4"
  },
  "orig_nbformat": 4
 },
 "nbformat": 4,
 "nbformat_minor": 2
}
