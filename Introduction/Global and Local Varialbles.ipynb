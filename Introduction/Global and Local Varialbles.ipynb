{
 "cells": [
  {
   "attachments": {},
   "cell_type": "markdown",
   "metadata": {},
   "source": [
    "GLOBAL VARIALBLES"
   ]
  },
  {
   "attachments": {},
   "cell_type": "markdown",
   "metadata": {},
   "source": [
    "-The variables which we declared outside the Function are called Global variables.\n",
    "-These are accessed or invoked by any function in the program."
   ]
  },
  {
   "cell_type": "code",
   "execution_count": 2,
   "metadata": {},
   "outputs": [
    {
     "name": "stdout",
     "output_type": "stream",
     "text": [
      "10\n",
      "50\n"
     ]
    }
   ],
   "source": [
    "# Define a global variable\n",
    "global_var = 10\n",
    "\n",
    "def my_function():\n",
    "    # Access the global variable within a function\n",
    "    print(global_var)\n",
    "\n",
    "def modify_global():\n",
    "    # Modify the global variable within a function\n",
    "    global global_var\n",
    "    global_var = 50\n",
    "\n",
    "# Access and modify the global variable\n",
    "print(global_var)  # Output: 10\n",
    "#my_function()      # Output: 10\n",
    "\n",
    "modify_global()\n",
    "print(global_var)  # Output: 50\n"
   ]
  },
  {
   "attachments": {},
   "cell_type": "markdown",
   "metadata": {},
   "source": [
    "Local Variables"
   ]
  },
  {
   "attachments": {},
   "cell_type": "markdown",
   "metadata": {},
   "source": [
    "-The Variables that are declined inside a function are Local Variables.\n",
    "-These types of variables can be accessed only inside the function. "
   ]
  },
  {
   "cell_type": "code",
   "execution_count": 3,
   "metadata": {},
   "outputs": [
    {
     "name": "stdout",
     "output_type": "stream",
     "text": [
      "10\n"
     ]
    },
    {
     "ename": "NameError",
     "evalue": "name 'local_var' is not defined",
     "output_type": "error",
     "traceback": [
      "\u001b[0;31m---------------------------------------------------------------------------\u001b[0m",
      "\u001b[0;31mNameError\u001b[0m                                 Traceback (most recent call last)",
      "Cell \u001b[0;32mIn[3], line 14\u001b[0m\n\u001b[1;32m     11\u001b[0m my_function()  \u001b[39m# Output: 5\u001b[39;00m\n\u001b[1;32m     13\u001b[0m \u001b[39m# Attempt to access the local variable outside its scope\u001b[39;00m\n\u001b[0;32m---> 14\u001b[0m \u001b[39mprint\u001b[39m(local_var)  \u001b[39m# Raises a NameError\u001b[39;00m\n",
      "\u001b[0;31mNameError\u001b[0m: name 'local_var' is not defined"
     ]
    }
   ],
   "source": [
    "def my_function():\n",
    "    # Define a local variable\n",
    "    local_var = 10\n",
    "    print(local_var)\n",
    "\n",
    "def another_function():\n",
    "    # Attempt to access a local variable defined in another function\n",
    "    print(local_var)  # Raises a NameError\n",
    "\n",
    "# Call the function and access the local variable\n",
    "my_function()  # Output: 5\n",
    "\n",
    "# Attempt to access the local variable outside its scope\n",
    "print(local_var)  # Raises a NameError\n"
   ]
  }
 ],
 "metadata": {
  "kernelspec": {
   "display_name": "Python 3",
   "language": "python",
   "name": "python3"
  },
  "language_info": {
   "codemirror_mode": {
    "name": "ipython",
    "version": 3
   },
   "file_extension": ".py",
   "mimetype": "text/x-python",
   "name": "python",
   "nbconvert_exporter": "python",
   "pygments_lexer": "ipython3",
   "version": "3.10.4"
  },
  "orig_nbformat": 4
 },
 "nbformat": 4,
 "nbformat_minor": 2
}
