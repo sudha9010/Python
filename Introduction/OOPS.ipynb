{
 "cells": [
  {
   "attachments": {},
   "cell_type": "markdown",
   "metadata": {},
   "source": [
    "1.Classes: A class is a blueprint or template that defines the properties (attributes) and behaviors (methods) of objects. It acts as a user-defined data type. You can create multiple objects (instances) based on a class.\n",
    "\n",
    "Objects: An object is an instance of a class. It represents a specific entity based on the class's blueprint. Each object has its own unique state and behavior, but shares the structure and behavior defined by the class."
   ]
  },
  {
   "cell_type": "code",
   "execution_count": 1,
   "metadata": {},
   "outputs": [
    {
     "name": "stdout",
     "output_type": "stream",
     "text": [
      "Toyota\n",
      "Accord\n",
      "The car's engine is starting.\n"
     ]
    }
   ],
   "source": [
    "class Car:\n",
    "    def __init__(self, brand, model):\n",
    "        self.brand = brand\n",
    "        self.model = model\n",
    "\n",
    "    def start_engine(self):\n",
    "        print(\"The car's engine is starting.\")\n",
    "\n",
    "# Creating objects of the Car class\n",
    "car1 = Car(\"Toyota\", \"Camry\")\n",
    "car2 = Car(\"Honda\", \"Accord\")\n",
    "\n",
    "# Accessing object attributes\n",
    "print(car1.brand)  \n",
    "print(car2.model)  \n",
    "\n",
    "# Calling object methods\n",
    "car1.start_engine()  \n"
   ]
  },
  {
   "attachments": {},
   "cell_type": "markdown",
   "metadata": {},
   "source": [
    "-Firstly defined a class called Car that represents a car with attributes like brand and model.\n",
    "-The __init__ method is a special method called a constructor that gets executed when a new object is created. It initializes the attributes of the object.\n",
    "-The start_engine method is a behavior specific to the Car class, which prints a message indicating that the car's engine is starting.\n",
    "-created two objects of the Car class, car1 and car2, with different brands and models.\n",
    "-accessed the attributes of the objects using the dot notation, like car1.brand and car2.model.\n",
    "-called the start_engine method on the car1 object using the dot notation."
   ]
  },
  {
   "attachments": {},
   "cell_type": "markdown",
   "metadata": {},
   "source": [
    "Encapsulation: Encapsulation refers to the bundling of data and methods within a class. It allows you to hide the internal details of an object and provide a public interface to interact with it. You can use access modifiers like public, private, and protected to control the visibility of attributes and methods."
   ]
  },
  {
   "cell_type": "code",
   "execution_count": 2,
   "metadata": {},
   "outputs": [
    {
     "name": "stdout",
     "output_type": "stream",
     "text": [
      "1234567890\n",
      "1000\n",
      "1500\n",
      "2000\n"
     ]
    }
   ],
   "source": [
    "class BankAccount:\n",
    "    def __init__(self, account_number, balance):\n",
    "        self._account_number = account_number\n",
    "        self._balance = balance\n",
    "\n",
    "    def deposit(self, amount):\n",
    "        self._balance += amount\n",
    "\n",
    "    def withdraw(self, amount):\n",
    "        if self._balance >= amount:\n",
    "            self._balance -= amount\n",
    "        else:\n",
    "            print(\"Insufficient balance!\")\n",
    "\n",
    "    def get_balance(self):\n",
    "        return self._balance\n",
    "\n",
    "# Creating a bank account object\n",
    "account = BankAccount(\"1234567890\", 1000)\n",
    "\n",
    "# Accessing attributes directly (although they are conventionally considered as protected)\n",
    "print(account._account_number)  \n",
    "\n",
    "# Accessing attributes through getter method\n",
    "print(account.get_balance())  \n",
    "\n",
    "# Modifying attribute indirectly through a method\n",
    "account.deposit(500)\n",
    "print(account.get_balance())  \n",
    "\n",
    "# Trying to modify attribute directly (should be avoided)\n",
    "account._balance = 2000\n",
    "print(account.get_balance())  # Output: 2000 (although it's against encapsulation principles)\n"
   ]
  },
  {
   "attachments": {},
   "cell_type": "markdown",
   "metadata": {},
   "source": [
    "-defined a class called BankAccount representing a bank account with attributes like account_number and balance.\n",
    "-The _account_number and _balance attributes are conventionally considered as protected, indicated by a single underscore prefix, although they can still be accessed directly.\n",
    "-The deposit and withdraw methods provide behavior to deposit and withdraw money from the account, respectively. They update the balance attribute accordingly.\n",
    "-The get_balance method is a getter method that allows accessing the balance attribute indirectly.\n",
    "-createad an object of the BankAccount class, account, with an account number and initial balance.\n",
    "-accessed the attributes directly (although they are conventionally considered protected) and through the getter method.\n",
    "-modifyed the balance attribute indirectly by calling the deposit method.\n",
    "-and also demonstrate the ability to modify the balance attribute directly, although it goes against encapsulation principles."
   ]
  },
  {
   "attachments": {},
   "cell_type": "markdown",
   "metadata": {},
   "source": [
    "Inheritance: Inheritance allows you to create a new class (derived or child class) based on an existing class (base or parent class). The derived class inherits the attributes and methods of the base class and can add its own unique attributes and methods. It promotes code reuse and enables hierarchical relationships between classes."
   ]
  },
  {
   "cell_type": "code",
   "execution_count": 4,
   "metadata": {},
   "outputs": [
    {
     "name": "stdout",
     "output_type": "stream",
     "text": [
      "Woof!\n",
      "Meow!\n"
     ]
    }
   ],
   "source": [
    "class Animal:\n",
    "    def __init__(self, name):\n",
    "        self.name = name\n",
    "\n",
    "    def sound(self):\n",
    "        pass\n",
    "\n",
    "class Dog(Animal):\n",
    "    def sound(self):\n",
    "        return \"Woof!\"\n",
    "\n",
    "class Cat(Animal):\n",
    "    def sound(self):\n",
    "        return \"Meow!\"\n",
    "\n",
    "# Creating objects of derived classes\n",
    "dog = Dog(\"Buddy\")\n",
    "cat = Cat(\"Whiskers\")\n",
    "\n",
    "# Calling the sound() method\n",
    "print(dog.sound()) \n",
    "print(cat.sound())  \n"
   ]
  },
  {
   "attachments": {},
   "cell_type": "markdown",
   "metadata": {},
   "source": [
    "-Firstly  defined a base class called Animal with an __init__ method that initializes the name attribute.\n",
    "-The sound method in the base class is declared with the pass statement, indicating that it is an abstract method that should be implemented in derived classes.\n",
    "-defined two derived classes, Dog and Cat, which inherit from the Animal class.\n",
    "-The derived classes override the sound method and provide their own implementation of the behavior.\n",
    "-created objects of the derived classes, dog and cat, with specific names.\n",
    "-called the sound method on the objects, which outputs the sound specific to each animal."
   ]
  },
  {
   "attachments": {},
   "cell_type": "markdown",
   "metadata": {},
   "source": [
    "Polymorphism: Polymorphism allows objects of different classes to be treated as objects of a common base class. It means that a single method can have different forms or implementations depending on the object it operates on. Polymorphism is achieved through method overriding and method overloading."
   ]
  },
  {
   "attachments": {},
   "cell_type": "markdown",
   "metadata": {},
   "source": [
    "Method Overriding: Method overriding occurs when a derived class defines a method with the same name as a method in the base class. The derived class method overrides the base class method, providing its own implementation."
   ]
  },
  {
   "cell_type": "code",
   "execution_count": 5,
   "metadata": {},
   "outputs": [
    {
     "name": "stdout",
     "output_type": "stream",
     "text": [
      "15\n",
      "50.24\n"
     ]
    }
   ],
   "source": [
    "class Shape:\n",
    "    def area(self):\n",
    "        pass\n",
    "\n",
    "class Rectangle(Shape):\n",
    "    def __init__(self, length, breadth):\n",
    "        self.length = length\n",
    "        self.breadth = breadth\n",
    "\n",
    "    def area(self):\n",
    "        return self.length * self.breadth\n",
    "\n",
    "class Circle(Shape):\n",
    "    def __init__(self, radius):\n",
    "        self.radius = radius\n",
    "\n",
    "    def area(self):\n",
    "        return 3.14 * self.radius * self.radius\n",
    "\n",
    "# Creating objects of derived classes\n",
    "rectangle = Rectangle(5, 3)\n",
    "circle = Circle(4)\n",
    "\n",
    "# Calling the area() method\n",
    "print(rectangle.area())  # Output: 15\n",
    "print(circle.area())  # Output: 50.24\n"
   ]
  },
  {
   "attachments": {},
   "cell_type": "markdown",
   "metadata": {},
   "source": [
    "-Firstly defined a base class called Shape with an abstract method area that should be implemented in derived classes.\n",
    "-Then defined two derived classes, Rectangle and Circle, which inherit from the Shape class.\n",
    "-The derived classes override the area method and provide their own implementation based on the shape's properties.\n",
    "-created objects of the derived classes, rectangle and circle, with specific dimensions.\n",
    "-Then called the area method on the objects, which outputs the calculated area specific to each shape."
   ]
  }
 ],
 "metadata": {
  "kernelspec": {
   "display_name": "Python 3",
   "language": "python",
   "name": "python3"
  },
  "language_info": {
   "codemirror_mode": {
    "name": "ipython",
    "version": 3
   },
   "file_extension": ".py",
   "mimetype": "text/x-python",
   "name": "python",
   "nbconvert_exporter": "python",
   "pygments_lexer": "ipython3",
   "version": "3.10.4"
  },
  "orig_nbformat": 4
 },
 "nbformat": 4,
 "nbformat_minor": 2
}
