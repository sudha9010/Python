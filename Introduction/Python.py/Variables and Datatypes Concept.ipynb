{
 "cells": [
  {
   "attachments": {},
   "cell_type": "markdown",
   "metadata": {},
   "source": []
  },
  {
   "attachments": {},
   "cell_type": "markdown",
   "metadata": {},
   "source": [
    "Varialbles:- \n",
    "             Variables are used to store data values in Python. You can think of them as containers that hold values. In Python, you can assign a value to a variable using the assignment operator (=)."
   ]
  },
  {
   "cell_type": "code",
   "execution_count": 3,
   "metadata": {},
   "outputs": [
    {
     "name": "stdout",
     "output_type": "stream",
     "text": [
      "Name: John\n",
      "Age: 25\n"
     ]
    }
   ],
   "source": [
    "# Assigning a value to a variable\n",
    "name = \"John\"\n",
    "age = 25\n",
    "\n",
    "print(\"Name:\", name)\n",
    "print(\"Age:\", age)\n",
    "\n"
   ]
  },
  {
   "attachments": {},
   "cell_type": "markdown",
   "metadata": {},
   "source": [
    " in the above example I am assigning values to two variables: name and age. The variable name is assigned the string value \"John\", and the variable age is assigned the integer value 25.In the above case, name is a variable of type str (string), and age is a variable of type int (integer). The variables can be used later in the code to refer to their assigned values."
   ]
  },
  {
   "attachments": {},
   "cell_type": "markdown",
   "metadata": {},
   "source": [
    "Data Types:\n",
    "Python has several built-in data types that define the kind of data a variable can hold. Some commonly used data types include:"
   ]
  },
  {
   "attachments": {},
   "cell_type": "markdown",
   "metadata": {},
   "source": [
    "Numeric Types:\n",
    "\n",
    "int: Represents whole numbers (e.g., 10, -5, 0).\n",
    "\n",
    "float: Represents decimal or floating-point numbers (e.g., 3.14, -2.5).\n",
    "\n",
    "complex: Represents complex numbers in the form a + bj, where a and b are floats, and j is the imaginary unit (e.g., 2 + 3j)."
   ]
  },
  {
   "cell_type": "code",
   "execution_count": 4,
   "metadata": {},
   "outputs": [
    {
     "name": "stdout",
     "output_type": "stream",
     "text": [
      "25\n",
      "98.6\n",
      "(3+2j)\n"
     ]
    }
   ],
   "source": [
    "# int\n",
    "age = 25\n",
    "\n",
    "# float\n",
    "temperature = 98.6\n",
    "\n",
    "# complex\n",
    "z = 3 + 2j\n",
    "\n",
    "print(age)\n",
    "print(temperature)\n",
    "print(z)\n"
   ]
  },
  {
   "attachments": {},
   "cell_type": "markdown",
   "metadata": {},
   "source": [
    "Text Type:\n",
    "\n",
    "str: Used to represent strings of characters."
   ]
  },
  {
   "cell_type": "code",
   "execution_count": 5,
   "metadata": {},
   "outputs": [
    {
     "name": "stdout",
     "output_type": "stream",
     "text": [
      "John Doe\n"
     ]
    }
   ],
   "source": [
    "name = \"John Doe\"\n",
    "print(name)"
   ]
  },
  {
   "attachments": {},
   "cell_type": "markdown",
   "metadata": {},
   "source": [
    "Sequence Types:\n"
   ]
  },
  {
   "attachments": {},
   "cell_type": "markdown",
   "metadata": {},
   "source": [
    "list: Represents an ordered collection of items, enclosed in square brackets ([]). Lists can contain elements of different types and can be modified.\n",
    "\n",
    "tuple: Similar to lists but enclosed in parentheses (()). Tuples are immutable, meaning their elements cannot be modified once defined.\n",
    "\n",
    "range: Represents a sequence of numbers. It is often used in loops to iterate a specific number of times."
   ]
  },
  {
   "cell_type": "code",
   "execution_count": 7,
   "metadata": {},
   "outputs": [
    {
     "name": "stdout",
     "output_type": "stream",
     "text": [
      "[1, 2, 3, 4, 5]\n",
      "(10, 20)\n",
      "[1, 2, 3, 4, 5]\n"
     ]
    }
   ],
   "source": [
    "# list\n",
    "numbers = [1, 2, 3, 4, 5]\n",
    "print(numbers)\n",
    "\n",
    "# tuple\n",
    "coordinates = (10, 20)\n",
    "print(coordinates)\n",
    "\n",
    "# range\n",
    "numbers = range(1, 6)\n",
    "print(list(numbers))\n",
    "\n"
   ]
  },
  {
   "attachments": {},
   "cell_type": "markdown",
   "metadata": {},
   "source": [
    "Mapping Type:\n",
    "\n",
    "dict: Represents a collection of key-value pairs enclosed in curly braces ({}). Each key is unique and associated with a value. Dictionaries are unordered."
   ]
  },
  {
   "cell_type": "code",
   "execution_count": 1,
   "metadata": {},
   "outputs": [
    {
     "name": "stdout",
     "output_type": "stream",
     "text": [
      "{'name': 'John', 'age': 30, 'city': 'New York'}\n"
     ]
    }
   ],
   "source": [
    "# dict\n",
    "person = {\"name\": \"John\", \"age\": 30, \"city\": \"New York\"}\n",
    "print(person)\n"
   ]
  },
  {
   "cell_type": "code",
   "execution_count": 2,
   "metadata": {},
   "outputs": [
    {
     "name": "stdout",
     "output_type": "stream",
     "text": [
      "name: John\n",
      "age: 30\n",
      "city: New York\n"
     ]
    }
   ],
   "source": [
    "# dict\n",
    "person = {\"name\": \"John\", \"age\": 30, \"city\": \"New York\"}\n",
    "\n",
    "# Print key-value pairs\n",
    "for key, value in person.items():\n",
    "    print(f\"{key}: {value}\")\n"
   ]
  },
  {
   "attachments": {},
   "cell_type": "markdown",
   "metadata": {},
   "source": [
    "Set Types:\n",
    "\n",
    "set: Represents an unordered collection of unique items enclosed in curly braces ({}).  Sets do not allow duplicate elements.\n",
    "\n",
    "frozenset: Similar to sets, but immutable (cannot be modified)."
   ]
  },
  {
   "cell_type": "code",
   "execution_count": 4,
   "metadata": {},
   "outputs": [
    {
     "name": "stdout",
     "output_type": "stream",
     "text": [
      "{'apple', 'banana', 'orange'}\n",
      "frozenset({'a', 'o', 'u', 'e', 'i'})\n"
     ]
    }
   ],
   "source": [
    "# set\n",
    "fruits = {\"apple\", \"banana\", \"orange\"}\n",
    "\n",
    "# frozenset\n",
    "vowels = frozenset({\"a\", \"e\", \"i\", \"o\", \"u\"})\n",
    "\n",
    "print(fruits)\n",
    "print(vowels)\n"
   ]
  },
  {
   "attachments": {},
   "cell_type": "markdown",
   "metadata": {},
   "source": [
    "Python uses curly braces {} to represent sets and frozensets, and the elements within the curly braces are displayed in an unordered manner."
   ]
  },
  {
   "attachments": {},
   "cell_type": "markdown",
   "metadata": {},
   "source": [
    "Boolean Type:\n",
    "\n",
    "bool: Represents the truth values True and False. Booleans are often used for logical operations and conditionals."
   ]
  },
  {
   "cell_type": "code",
   "execution_count": 6,
   "metadata": {},
   "outputs": [
    {
     "name": "stdout",
     "output_type": "stream",
     "text": [
      "True\n"
     ]
    }
   ],
   "source": [
    "# bool\n",
    "is_valid = True\n",
    "print(is_valid)\n"
   ]
  },
  {
   "cell_type": "code",
   "execution_count": 8,
   "metadata": {},
   "outputs": [
    {
     "name": "stdout",
     "output_type": "stream",
     "text": [
      "You are a minor.\n"
     ]
    }
   ],
   "source": [
    "age = 6\n",
    "\n",
    "if age >= 18:\n",
    "    print(\"You are an adult.\")\n",
    "else:\n",
    "    print(\"You are a minor.\")\n"
   ]
  },
  {
   "attachments": {},
   "cell_type": "markdown",
   "metadata": {},
   "source": [
    "Text Type:\tstr\n",
    "Numeric Types:\tint, float, complex\n",
    "Sequence Types:\tlist, tuple, range\n",
    "Mapping Type:\tdict\n",
    "Set Types:\tset, frozenset\n",
    "Boolean Type:\tbool\n",
    "Binary Types:\tbytes, bytearray, memoryview\n",
    "None Type:\tNoneType  are the different data types\n"
   ]
  }
 ],
 "metadata": {
  "kernelspec": {
   "display_name": "Python 3",
   "language": "python",
   "name": "python3"
  },
  "language_info": {
   "codemirror_mode": {
    "name": "ipython",
    "version": 3
   },
   "file_extension": ".py",
   "mimetype": "text/x-python",
   "name": "python",
   "nbconvert_exporter": "python",
   "pygments_lexer": "ipython3",
   "version": "3.10.4"
  },
  "orig_nbformat": 4
 },
 "nbformat": 4,
 "nbformat_minor": 2
}
