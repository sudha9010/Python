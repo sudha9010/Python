{
 "cells": [
  {
   "cell_type": "code",
   "execution_count": 11,
   "metadata": {},
   "outputs": [
    {
     "name": "stdout",
     "output_type": "stream",
     "text": [
      "4\n"
     ]
    }
   ],
   "source": [
    "def count_capital_letters(string):\n",
    "    count = 0\n",
    "    for char in string:\n",
    "        if char.isupper():\n",
    "            count += 1\n",
    "    return count\n",
    "\n",
    "# Example usage\n",
    "sentence = \"Sudha Is Good Girl\"\n",
    "result = count_capital_letters(sentence)\n",
    "print(result)  \n"
   ]
  },
  {
   "cell_type": "code",
   "execution_count": 13,
   "metadata": {},
   "outputs": [
    {
     "name": "stdout",
     "output_type": "stream",
     "text": [
      "Converted string: hELLO wORLD! hOW aRE yOU?\n",
      "Number of uppercase letters: 14\n",
      "Number of lowercase letters: 5\n"
     ]
    }
   ],
   "source": [
    "def convert_case_and_count_letters(string):\n",
    "    uppercase_count = 0\n",
    "    lowercase_count = 0\n",
    "    converted_string = \"\"\n",
    "\n",
    "    for char in string:\n",
    "        if char.isupper():\n",
    "            lowercase_count += 1\n",
    "            converted_string += char.lower()\n",
    "        elif char.islower():\n",
    "            uppercase_count += 1\n",
    "            converted_string += char.upper()\n",
    "        else:\n",
    "            converted_string += char\n",
    "\n",
    "    return converted_string, uppercase_count, lowercase_count\n",
    "\n",
    "\n",
    "# Example usage\n",
    "input_string = \"Hello World! How Are You?\"\n",
    "converted, uppercase_count, lowercase_count = convert_case_and_count_letters(input_string)\n",
    "\n",
    "print(\"Converted string:\", converted)\n",
    "print(\"Number of uppercase letters:\", uppercase_count)\n",
    "print(\"Number of lowercase letters:\", lowercase_count)\n"
   ]
  },
  {
   "attachments": {},
   "cell_type": "markdown",
   "metadata": {},
   "source": [
    "# Decorators\n",
    "             Decorator is the most useful tool in python as it allows programmers to alter the changes in behavior of class or function\n",
    "            "
   ]
  },
  {
   "cell_type": "code",
   "execution_count": 4,
   "metadata": {},
   "outputs": [
    {
     "name": "stdout",
     "output_type": "stream",
     "text": [
      "HELLO, WORLD!\n"
     ]
    }
   ],
   "source": [
    "# Decorator function\n",
    "def uppercase_decorator(func):\n",
    "    def wrapper():\n",
    "        original_result = func()\n",
    "        modified_result = original_result.upper()\n",
    "        return modified_result\n",
    "    return wrapper\n",
    "\n",
    "# Function to be decorated\n",
    "def say_hello():\n",
    "    return \"Hello, World!\"\n",
    "\n",
    "# Decorating the function\n",
    "decorated_function = uppercase_decorator(say_hello)\n",
    "\n",
    "# Calling the decorated function\n",
    "result = decorated_function()\n",
    "print(result)  # Output: HELLO, WORLD!\n",
    "\n"
   ]
  }
 ],
 "metadata": {
  "kernelspec": {
   "display_name": "Python 3",
   "language": "python",
   "name": "python3"
  },
  "language_info": {
   "codemirror_mode": {
    "name": "ipython",
    "version": 3
   },
   "file_extension": ".py",
   "mimetype": "text/x-python",
   "name": "python",
   "nbconvert_exporter": "python",
   "pygments_lexer": "ipython3",
   "version": "3.10.4"
  },
  "orig_nbformat": 4
 },
 "nbformat": 4,
 "nbformat_minor": 2
}
