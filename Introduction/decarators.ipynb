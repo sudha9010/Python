{
 "cells": [
  {
   "attachments": {},
   "cell_type": "markdown",
   "metadata": {},
   "source": [
    "Decorator :-\n",
    "             Decorator is the most useful tool in python as it allows pragrammers to alter the changes in behavior of class or function"
   ]
  },
  {
   "cell_type": "code",
   "execution_count": 9,
   "metadata": {},
   "outputs": [
    {
     "name": "stdout",
     "output_type": "stream",
     "text": [
      "sudha\n",
      "RANI\n"
     ]
    }
   ],
   "source": [
    "def lowercase_decorator(function):\n",
    "    def wrapper():\n",
    "        result = function()  # Call the original function\n",
    "        modified_result = result.lower()  # Modify the result\n",
    "        return modified_result\n",
    "    return wrapper\n",
    "\n",
    "def uppercase_decorator(function):\n",
    "    def wrapper():\n",
    "        result = function()  # Call the original function\n",
    "        modified_result = result.upper()  # Modify the result\n",
    "        return modified_result\n",
    "    return wrapper\n",
    "\n",
    "@lowercase_decorator\n",
    "def say_world():\n",
    "    return \"SUDHA\"\n",
    "\n",
    "@uppercase_decorator\n",
    "def say_hello():\n",
    "    return \"Rani\"\n",
    "\n",
    "print(say_world())  # Output: \"sudha\"\n",
    "print(say_hello())  # Output: \"WORLD!\"\n",
    "\n",
    "\n",
    "    \n"
   ]
  },
  {
   "cell_type": "code",
   "execution_count": 10,
   "metadata": {},
   "outputs": [
    {
     "name": "stdout",
     "output_type": "stream",
     "text": [
      "sudha V\n"
     ]
    }
   ],
   "source": [
    "def lowercase_decorator(function):\n",
    "    def wrapper():\n",
    "        result = function()  # Call the original function\n",
    "        modified_result = result.lower()  # Modify the result\n",
    "        return modified_result\n",
    "    return wrapper\n",
    "\n",
    "def uppercase_decorator(function):\n",
    "    def wrapper():\n",
    "        result = function()  # Call the original function\n",
    "        modified_result = result.upper()  # Modify the result\n",
    "        return modified_result\n",
    "    return wrapper\n",
    "\n",
    "@lowercase_decorator\n",
    "def say_world():\n",
    "    return \"SUDHA\"\n",
    "\n",
    "@uppercase_decorator\n",
    "def say_hello():\n",
    "    return \"v\"\n",
    "\n",
    "print(say_world(), end=' ')\n",
    "print(say_hello())  \n"
   ]
  },
  {
   "cell_type": "code",
   "execution_count": 14,
   "metadata": {},
   "outputs": [
    {
     "name": "stdout",
     "output_type": "stream",
     "text": [
      "sudha H\n"
     ]
    }
   ],
   "source": [
    "def case_converter_decorator(convert_to):\n",
    "    def decorator(function):\n",
    "        def wrapper():\n",
    "            result = function()  # Call the original function\n",
    "            modified_result = result.lower() if convert_to == 'lowercase' else result.upper()\n",
    "            return modified_result\n",
    "        return wrapper\n",
    "    return decorator\n",
    "\n",
    "@case_converter_decorator('lowercase')\n",
    "def say_world():\n",
    "    return \"SUDHA\"\n",
    "\n",
    "@case_converter_decorator('uppercase')\n",
    "def say_hello():\n",
    "    return \"h\"\n",
    "\n",
    "print(say_world(), end=' ')\n",
    "print(say_hello())  \n"
   ]
  },
  {
   "cell_type": "code",
   "execution_count": 17,
   "metadata": {},
   "outputs": [
    {
     "name": "stdout",
     "output_type": "stream",
     "text": [
      "sUDHA v\n"
     ]
    }
   ],
   "source": [
    "def case_converter_decorator(function):\n",
    "    def wrapper():\n",
    "        result = function()  # Call the original function\n",
    "        modified_result = result[0].lower() + result[1:] if result else result\n",
    "        return modified_result\n",
    "    return wrapper\n",
    "\n",
    "@case_converter_decorator\n",
    "def say_world():\n",
    "    return \"SUDHA\"\n",
    "\n",
    "@case_converter_decorator\n",
    "def say_hello():\n",
    "    return \"V\"\n",
    "\n",
    "print(say_world(), end=' ')\n",
    "print(say_hello())  \n"
   ]
  },
  {
   "cell_type": "code",
   "execution_count": 7,
   "metadata": {},
   "outputs": [
    {
     "data": {
      "text/html": [
       "<span style=\"color:red\">Hello </span>"
      ],
      "text/plain": [
       "<IPython.core.display.HTML object>"
      ]
     },
     "metadata": {},
     "output_type": "display_data"
    },
    {
     "data": {
      "text/html": [
       "<span style=\"color:blue\">Sudha</span>"
      ],
      "text/plain": [
       "<IPython.core.display.HTML object>"
      ]
     },
     "metadata": {},
     "output_type": "display_data"
    }
   ],
   "source": [
    "from IPython.display import display, HTML\n",
    "\n",
    "def print_colored_text(text, color):\n",
    "    colored_text = f'<span style=\"color:{color}\">{text}</span>'\n",
    "    display(HTML(colored_text))\n",
    "\n",
    "# Example usage\n",
    "print_colored_text(\"Hello \", \"red\")\n",
    "print_colored_text(\"Sudha\", \"blue\")\n"
   ]
  },
  {
   "cell_type": "code",
   "execution_count": 8,
   "metadata": {},
   "outputs": [
    {
     "data": {
      "text/html": [
       "<span style=\"color:red\">Hello </span><span style=\"color:blue\">Sudha</span>"
      ],
      "text/plain": [
       "<IPython.core.display.HTML object>"
      ]
     },
     "metadata": {},
     "output_type": "display_data"
    }
   ],
   "source": [
    "from IPython.display import HTML\n",
    "\n",
    "def print_colored_text(text, color):\n",
    "    colored_text = f'<span style=\"color:{color}\">{text}</span>'\n",
    "    return colored_text\n",
    "\n",
    "# Example usage\n",
    "output = print_colored_text(\"Hello \", \"red\") + print_colored_text(\"Sudha\", \"blue\")\n",
    "display(HTML(output))\n"
   ]
  },
  {
   "cell_type": "code",
   "execution_count": 11,
   "metadata": {},
   "outputs": [
    {
     "data": {
      "text/html": [
       "<span style=\"color:red\">H</span><span style=\"color:blue\">e</span><span style=\"color:green\">l</span><span style=\"color:pink\">l</span><span style=\"color:red\">o</span><span style=\"color:blue\"> </span><span style=\"color:green\">S</span><span style=\"color:pink\">u</span><span style=\"color:red\">d</span><span style=\"color:blue\">h</span><span style=\"color:green\">a</span>"
      ],
      "text/plain": [
       "<IPython.core.display.HTML object>"
      ]
     },
     "metadata": {},
     "output_type": "display_data"
    }
   ],
   "source": [
    "from IPython.display import display, HTML\n",
    "\n",
    "def print_colored_text(text, colors):\n",
    "    colored_text = ''\n",
    "    for i, letter in enumerate(text):\n",
    "        color = colors[i % len(colors)]\n",
    "        colored_text += f'<span style=\"color:{color}\">{letter}</span>'\n",
    "    return colored_text\n",
    "\n",
    "# Example usage\n",
    "output = print_colored_text(\"Hello Sudha\", [\"red\", \"blue\", \"green\", \"pink\"])\n",
    "display(HTML(output))\n"
   ]
  },
  {
   "cell_type": "code",
   "execution_count": 27,
   "metadata": {},
   "outputs": [
    {
     "name": "stdout",
     "output_type": "stream",
     "text": [
      "2\n"
     ]
    }
   ],
   "source": [
    "result = lambda num1, num2: num1 % num2\n",
    "print (result(2,6))"
   ]
  },
  {
   "cell_type": "code",
   "execution_count": 5,
   "metadata": {},
   "outputs": [
    {
     "name": "stdout",
     "output_type": "stream",
     "text": [
      "Decorator: Before the function is called\n",
      "Hello, Sudha Vankayalapati\n",
      "Decorator: After the function is called\n"
     ]
    }
   ],
   "source": [
    "def decorator_function(original_function):\n",
    "    def wrapper_function(*args, **kwargs):\n",
    "        # Perform some actions before the original function is called\n",
    "        print(\"Decorator: Before the function is called\")\n",
    "\n",
    "        # Call the original function\n",
    "        result = original_function(*args, **kwargs)\n",
    "\n",
    "        # Perform some actions after the original function is called\n",
    "        print(\"Decorator: After the function is called\")\n",
    "\n",
    "        return result\n",
    "\n",
    "    return wrapper_function\n",
    "\n",
    "@decorator_function\n",
    "def greet(name):\n",
    "    print(f\"Hello, {name}\")\n",
    "\n",
    "greet(\"Sudha Vankayalapati\")"
   ]
  }
 ],
 "metadata": {
  "kernelspec": {
   "display_name": "Python 3",
   "language": "python",
   "name": "python3"
  },
  "language_info": {
   "codemirror_mode": {
    "name": "ipython",
    "version": 3
   },
   "file_extension": ".py",
   "mimetype": "text/x-python",
   "name": "python",
   "nbconvert_exporter": "python",
   "pygments_lexer": "ipython3",
   "version": "3.10.4"
  },
  "orig_nbformat": 4
 },
 "nbformat": 4,
 "nbformat_minor": 2
}
