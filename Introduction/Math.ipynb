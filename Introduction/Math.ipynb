{
 "cells": [
  {
   "cell_type": "code",
   "execution_count": 3,
   "metadata": {},
   "outputs": [
    {
     "name": "stdout",
     "output_type": "stream",
     "text": [
      "The square root of 25 is 5.0\n",
      "The factorial of 5 is 120\n",
      "The logarithm base 10 of 100 is 2.0\n",
      "The sine of 0.7853981633974483 radians is 0.7071067811865475\n",
      "The exponential of 2 is 7.38905609893065\n",
      "2 raised to the power of 3 is 8.0\n",
      "The absolute value of -10 is 10.0\n",
      "The ceiling value of -9.1 is -9\n",
      "The floor value of -9.1 is -10\n"
     ]
    }
   ],
   "source": [
    "import math\n",
    "\n",
    "# Calculate the square root\n",
    "num = 25\n",
    "sqrt = math.sqrt(num)\n",
    "print(f\"The square root of {num} is {sqrt}\")\n",
    "\n",
    "# Calculate the factorial\n",
    "num = 5\n",
    "factorial = math.factorial(num)\n",
    "print(f\"The factorial of {num} is {factorial}\")\n",
    "\n",
    "# Calculate the logarithm (base 10)\n",
    "num = 100\n",
    "logarithm = math.log10(num)\n",
    "print(f\"The logarithm base 10 of {num} is {logarithm}\")\n",
    "\n",
    "# Calculate the trigonometric sine\n",
    "angle = math.pi / 4\n",
    "sine = math.sin(angle)\n",
    "print(f\"The sine of {angle} radians is {sine}\")\n",
    "\n",
    "# Calculate the exponential function\n",
    "num = 2\n",
    "exponential = math.exp(num)\n",
    "print(f\"The exponential of {num} is {exponential}\")\n",
    "\n",
    "# Calculate the power of a number\n",
    "base = 2\n",
    "exponent = 3\n",
    "power = math.pow(base, exponent)\n",
    "print(f\"{base} raised to the power of {exponent} is {power}\")\n",
    "\n",
    "# Calculate the absolute value\n",
    "num = -10\n",
    "absolute = math.fabs(num)\n",
    "print(f\"The absolute value of {num} is {absolute}\")\n",
    "\n",
    "# Calculate the ceiling and floor values\n",
    "num = -9.1\n",
    "ceiling = math.ceil(num)\n",
    "floor = math.floor(num)\n",
    "print(f\"The ceiling value of {num} is {ceiling}\")\n",
    "print(f\"The floor value of {num} is {floor}\")\n"
   ]
  }
 ],
 "metadata": {
  "kernelspec": {
   "display_name": "Python 3",
   "language": "python",
   "name": "python3"
  },
  "language_info": {
   "codemirror_mode": {
    "name": "ipython",
    "version": 3
   },
   "file_extension": ".py",
   "mimetype": "text/x-python",
   "name": "python",
   "nbconvert_exporter": "python",
   "pygments_lexer": "ipython3",
   "version": "3.10.4"
  },
  "orig_nbformat": 4
 },
 "nbformat": 4,
 "nbformat_minor": 2
}
