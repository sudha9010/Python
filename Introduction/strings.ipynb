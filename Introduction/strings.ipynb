{
 "cells": [
  {
   "cell_type": "markdown",
   "metadata": {},
   "source": []
  },
  {
   "cell_type": "code",
   "execution_count": 2,
   "metadata": {},
   "outputs": [
    {
     "name": "stdout",
     "output_type": "stream",
     "text": [
      "10/2= 5.0\n",
      "10/2= 5\n",
      "10%2= 0\n",
      "divmod(10,2)= (5, 0)\n"
     ]
    }
   ],
   "source": [
    "print(\"10/2=\",10/2)\n",
    "print(\"10/2=\",10//2)\n",
    "print(\"10%2=\",10%2)\n",
    "print(\"divmod(10,2)=\",divmod(10,2)) #//,%"
   ]
  },
  {
   "attachments": {},
   "cell_type": "markdown",
   "metadata": {},
   "source": [
    "List Of Elements"
   ]
  },
  {
   "cell_type": "code",
   "execution_count": 7,
   "metadata": {},
   "outputs": [
    {
     "name": "stdout",
     "output_type": "stream",
     "text": [
      "[1, 2, 3, 4, 5, 'a', 'b', 'c', 'd', 'A', 'B', 'C', 'D']\n"
     ]
    }
   ],
   "source": [
    "my_list=[1, 2, 3, 4, 5, 'a', 'b' ,'c', 'd' , 'A', 'B' ,'C', 'D']\n",
    "print(my_list)\n"
   ]
  },
  {
   "cell_type": "code",
   "execution_count": 8,
   "metadata": {},
   "outputs": [
    {
     "name": "stdout",
     "output_type": "stream",
     "text": [
      "1\n",
      "2\n",
      "3\n",
      "4\n",
      "5\n",
      "a\n",
      "b\n",
      "c\n",
      "d\n",
      "A\n",
      "B\n",
      "C\n",
      "D\n"
     ]
    }
   ],
   "source": [
    "for element in my_list:\n",
    "    print(element)"
   ]
  },
  {
   "cell_type": "code",
   "execution_count": 9,
   "metadata": {},
   "outputs": [
    {
     "name": "stdout",
     "output_type": "stream",
     "text": [
      "1\n",
      "3\n",
      "D\n"
     ]
    }
   ],
   "source": [
    "\n",
    "print(my_list[0])   # prints the first element\n",
    "print(my_list[2])   # prints the third element\n",
    "print(my_list[-1])  # prints the last element\n"
   ]
  },
  {
   "attachments": {},
   "cell_type": "markdown",
   "metadata": {},
   "source": [
    "Removing the element at list"
   ]
  },
  {
   "cell_type": "code",
   "execution_count": 12,
   "metadata": {},
   "outputs": [
    {
     "name": "stdout",
     "output_type": "stream",
     "text": [
      "[1, 2, 5, 'a', 'b', 'c', 'd', 'A', 'B', 'C', 'D']\n"
     ]
    }
   ],
   "source": [
    "\n",
    "my_list.remove(4)   # removes the value 3 from the list\n",
    "print(my_list)      # prints [1, 2, 4, 5]\n"
   ]
  },
  {
   "attachments": {},
   "cell_type": "markdown",
   "metadata": {},
   "source": [
    "Index"
   ]
  },
  {
   "cell_type": "code",
   "execution_count": 13,
   "metadata": {},
   "outputs": [
    {
     "name": "stdout",
     "output_type": "stream",
     "text": [
      "[1, 2, 'a', 'b', 'c', 'd', 'A', 'B', 'C', 'D']\n"
     ]
    }
   ],
   "source": [
    "\n",
    "del my_list[2]      # removes the element at index 2 (which is 3) from the list\n",
    "print(my_list)      # prints [1, 2, 4, 5]\n"
   ]
  },
  {
   "cell_type": "code",
   "execution_count": 14,
   "metadata": {},
   "outputs": [
    {
     "name": "stdout",
     "output_type": "stream",
     "text": [
      "[1, 1, 2, 'a', 'b', 'c', 'd', 'A', 'B', 'C', 'D']\n"
     ]
    }
   ],
   "source": [
    "\n",
    "my_list.insert(0, 1)   # adds the value 1 at the beginning of the list\n",
    "print(my_list)         \n"
   ]
  },
  {
   "cell_type": "code",
   "execution_count": 15,
   "metadata": {},
   "outputs": [
    {
     "name": "stdout",
     "output_type": "stream",
     "text": [
      "[1, 'D', 'C', 'B', 'A', 'd', 'c', 'b', 'a', 2, 1, 1]\n"
     ]
    }
   ],
   "source": [
    "\n",
    "my_list.append(1)      # adds the value 1 to the end of the list\n",
    "my_list.reverse()      # reverses the order of the elements in the list\n",
    "print(my_list)        \n"
   ]
  },
  {
   "cell_type": "code",
   "execution_count": 1,
   "metadata": {},
   "outputs": [
    {
     "ename": "IndentationError",
     "evalue": "expected an indented block after function definition on line 1 (3972559660.py, line 2)",
     "output_type": "error",
     "traceback": [
      "\u001b[0;36m  Cell \u001b[0;32mIn[1], line 2\u001b[0;36m\u001b[0m\n\u001b[0;31m    a.append(len(a))\u001b[0m\n\u001b[0m    ^\u001b[0m\n\u001b[0;31mIndentationError\u001b[0m\u001b[0;31m:\u001b[0m expected an indented block after function definition on line 1\n"
     ]
    }
   ],
   "source": [
    "def func(a=[]):\n",
    "a.append(len(a))\n",
    "return a\n",
    "\n",
    "print(func())\n",
    "print(func())"
   ]
  },
  {
   "cell_type": "code",
   "execution_count": 2,
   "metadata": {},
   "outputs": [
    {
     "name": "stdout",
     "output_type": "stream",
     "text": [
      "[0]\n",
      "[0, 1]\n"
     ]
    }
   ],
   "source": [
    "def func(a=[]):\n",
    "    a.append(len(a))\n",
    "    return a\n",
    "\n",
    "print(func())\n",
    "print(func())\n"
   ]
  },
  {
   "cell_type": "code",
   "execution_count": 3,
   "metadata": {},
   "outputs": [
    {
     "name": "stdout",
     "output_type": "stream",
     "text": [
      "<class 'int'>\n",
      "<class 'str'>\n"
     ]
    }
   ],
   "source": [
    "var = 10\n",
    "print(type(var))\n",
    "var = \"Hello\"\n",
    "print(type(var))"
   ]
  },
  {
   "cell_type": "code",
   "execution_count": 3,
   "metadata": {},
   "outputs": [
    {
     "name": "stdout",
     "output_type": "stream",
     "text": [
      "num1 =1234 <class 'int'> id(num1)=140283074047984\n"
     ]
    }
   ],
   "source": [
    "num1 = 1234\n",
    "print(f\"{num1 =} {type(num1)} {id(num1)=}\")"
   ]
  },
  {
   "cell_type": "code",
   "execution_count": 4,
   "metadata": {},
   "outputs": [
    {
     "name": "stdout",
     "output_type": "stream",
     "text": [
      "num1 =9999 <class 'int'> id(num1)=140283074050160\n"
     ]
    }
   ],
   "source": [
    "num1 = 9999\n",
    "print(f\"{num1 =} {type(num1)} {id(num1)=}\")"
   ]
  },
  {
   "cell_type": "code",
   "execution_count": 5,
   "metadata": {},
   "outputs": [
    {
     "name": "stdout",
     "output_type": "stream",
     "text": [
      "/n String is immutable object ===\n",
      "name                        :Sudha Rani\n",
      "name[1:3]                   :ud\n"
     ]
    }
   ],
   "source": [
    "print(\"/n String is immutable object ===\")\n",
    "name = \"Sudha Rani\"\n",
    "print(f\"name                        :{name}\")\n",
    "print(f\"name[1:3]                   :{name[1:3]}\")"
   ]
  },
  {
   "cell_type": "code",
   "execution_count": 8,
   "metadata": {},
   "outputs": [
    {
     "name": "stdout",
     "output_type": "stream",
     "text": [
      "Sudha\n"
     ]
    }
   ],
   "source": [
    "print(\"Sudha\")"
   ]
  },
  {
   "cell_type": "code",
   "execution_count": 1,
   "metadata": {},
   "outputs": [
    {
     "name": "stdout",
     "output_type": "stream",
     "text": [
      "The sum of 10 and 7 is 17\n"
     ]
    }
   ],
   "source": [
    " num1 = 10\n",
    " num2 = 7\n",
    " sum = num1 + num2\n",
    " print(\"The sum of\", num1, \"and\", num2, \"is\", sum)"
   ]
  }
 ],
 "metadata": {
  "kernelspec": {
   "display_name": "Python 3",
   "language": "python",
   "name": "python3"
  },
  "language_info": {
   "codemirror_mode": {
    "name": "ipython",
    "version": 3
   },
   "file_extension": ".py",
   "mimetype": "text/x-python",
   "name": "python",
   "nbconvert_exporter": "python",
   "pygments_lexer": "ipython3",
   "version": "3.10.4"
  },
  "orig_nbformat": 4
 },
 "nbformat": 4,
 "nbformat_minor": 2
}
