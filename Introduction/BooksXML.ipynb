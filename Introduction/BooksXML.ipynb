{
 "cells": [
  {
   "cell_type": "code",
   "execution_count": 1,
   "metadata": {},
   "outputs": [],
   "source": [
    "books = {\n",
    "    1: ('The Great Gatsby', 'F. Scott Fitzgerald', '1925'),\n",
    "    2: ('To Kill a Mockingbird', 'Harper Lee', '1960'),\n",
    "    3: ('1984', 'George Orwell', '1949'),\n",
    "    4: ('The Catcher in the Rye', 'J.D. Salinger', '1951'),\n",
    "    5: ('Pride and Prejudice', 'Jane Austen', '1813')\n",
    "}\n"
   ]
  }
 ],
 "metadata": {
  "kernelspec": {
   "display_name": "Python 3",
   "language": "python",
   "name": "python3"
  },
  "language_info": {
   "codemirror_mode": {
    "name": "ipython",
    "version": 3
   },
   "file_extension": ".py",
   "mimetype": "text/x-python",
   "name": "python",
   "nbconvert_exporter": "python",
   "pygments_lexer": "ipython3",
   "version": "3.10.4"
  },
  "orig_nbformat": 4
 },
 "nbformat": 4,
 "nbformat_minor": 2
}
