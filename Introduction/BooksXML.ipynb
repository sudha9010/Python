{
 "cells": [
  {
   "attachments": {},
   "cell_type": "markdown",
   "metadata": {},
   "source": [
    "## XML with Python"
   ]
  },
  {
   "attachments": {},
   "cell_type": "markdown",
   "metadata": {},
   "source": [
    "-The xml.etree.ElementTree module implements a simple and efficient API for parsing and creating XML data.\n",
    "-Commonly used library is xml.etree.ElementTree, which allows you to parse, create, and manipulate XML documents."
   ]
  },
  {
   "attachments": {},
   "cell_type": "markdown",
   "metadata": {},
   "source": [
    "To parse XML using the xmltodict module in Python, you first need to install it using pip:\n",
    "\n"
   ]
  },
  {
   "cell_type": "code",
   "execution_count": 1,
   "metadata": {},
   "outputs": [
    {
     "name": "stdout",
     "output_type": "stream",
     "text": [
      "Collecting xmltodict\n",
      "  Downloading xmltodict-0.13.0-py2.py3-none-any.whl (10.0 kB)\n",
      "Installing collected packages: xmltodict\n",
      "Successfully installed xmltodict-0.13.0\n",
      "\n",
      "\u001b[1m[\u001b[0m\u001b[34;49mnotice\u001b[0m\u001b[1;39;49m]\u001b[0m\u001b[39;49m A new release of pip is available: \u001b[0m\u001b[31;49m23.1.1\u001b[0m\u001b[39;49m -> \u001b[0m\u001b[32;49m23.1.2\u001b[0m\n",
      "\u001b[1m[\u001b[0m\u001b[34;49mnotice\u001b[0m\u001b[1;39;49m]\u001b[0m\u001b[39;49m To update, run: \u001b[0m\u001b[32;49mpip install --upgrade pip\u001b[0m\n",
      "Note: you may need to restart the kernel to use updated packages.\n"
     ]
    }
   ],
   "source": [
    "pip install xmltodict\n"
   ]
  },
  {
   "attachments": {},
   "cell_type": "markdown",
   "metadata": {},
   "source": [
    "you can use the xmltodict.parse() function to parse XML data and convert it into a Python dictionary. "
   ]
  },
  {
   "cell_type": "code",
   "execution_count": 3,
   "metadata": {},
   "outputs": [
    {
     "name": "stdout",
     "output_type": "stream",
     "text": [
      "Name: Sudha\n",
      "Age: 25\n",
      "City: Texas\n",
      "Designition: Software Developer\n",
      "Country: USA\n",
      "\n",
      "Name: Radha\n",
      "Age: 25\n",
      "City: London\n",
      "Designition: Python Developer\n",
      "Country: UK\n",
      "\n"
     ]
    }
   ],
   "source": [
    "import xmltodict\n",
    "\n",
    "# XML data as a string\n",
    "xml_data = '''\n",
    "<root>\n",
    "    <person>\n",
    "        <name>Sudha</name>\n",
    "        <age>25</age>\n",
    "        <designition>Software Developer</designition>\n",
    "        <address>\n",
    "            <city>Texas</city>\n",
    "            <country>USA</country>\n",
    "        </address>\n",
    "    </person>\n",
    "    <person>\n",
    "        <name>Radha</name>\n",
    "        <age>25</age>\n",
    "        <designition>Python Developer</designition>\n",
    "        <address>\n",
    "            <city>London</city>\n",
    "            <country>UK</country>\n",
    "        </address>\n",
    "    </person>\n",
    "</root>\n",
    "'''\n",
    "\n",
    "# Parsing XML into a dictionary\n",
    "data_dict = xmltodict.parse(xml_data)\n",
    "\n",
    "# Accessing parsed data\n",
    "root = data_dict['root']\n",
    "persons = root['person']\n",
    "\n",
    "# Iterating over persons\n",
    "for person in persons:\n",
    "    name = person['name']\n",
    "    age = person['age']\n",
    "    designition = person['designition']\n",
    "    address = person['address']\n",
    "    city = address['city']\n",
    "    country = address['country']\n",
    "\n",
    "    print(\"Name:\", name)\n",
    "    print(\"Age:\", age)\n",
    "    print(\"City:\", city)\n",
    "    print(\"Designition:\", designition)\n",
    "    print(\"Country:\", country)\n",
    "    print()\n"
   ]
  },
  {
   "attachments": {},
   "cell_type": "markdown",
   "metadata": {},
   "source": [
    "-First I imported the xmltodict module.Then stored XML data  as a string in the xml_data variable.\n",
    "then  parsed the XML data using xmltodict.parse(xml_data), to return a Python dictionary as the XML structure.\n",
    "then access different elements and values in the parsed dictionary, such as the root element, person elements, and their child elements.\n",
    "then iterated over the person elements and extract information like name, age, and address.\n",
    "and last printed the extracted information for each person."
   ]
  },
  {
   "attachments": {},
   "cell_type": "markdown",
   "metadata": {},
   "source": [
    "## To convert a Python dictionary to XML using the xmltodict module, you can utilize the xmltodict.unparse() function."
   ]
  },
  {
   "cell_type": "code",
   "execution_count": 5,
   "metadata": {},
   "outputs": [
    {
     "name": "stdout",
     "output_type": "stream",
     "text": [
      "<?xml version=\"1.0\" encoding=\"utf-8\"?>\n",
      "<root>\n",
      "\t<person>\n",
      "\t\t<name>Sudha</name>\n",
      "\t\t<Role>Software Developer</Role>\n",
      "\t\t<age>25</age>\n",
      "\t\t<address>\n",
      "\t\t\t<city>Texas</city>\n",
      "\t\t\t<country>USA</country>\n",
      "\t\t</address>\n",
      "\t</person>\n",
      "\t<person>\n",
      "\t\t<name>Teju</name>\n",
      "\t\t<Role>Python Developer</Role>\n",
      "\t\t<age>30</age>\n",
      "\t\t<address>\n",
      "\t\t\t<city>London</city>\n",
      "\t\t\t<country>UK</country>\n",
      "\t\t</address>\n",
      "\t</person>\n",
      "</root>\n"
     ]
    }
   ],
   "source": [
    "import xmltodict\n",
    "\n",
    "# Dictionary representing XML data\n",
    "data_dict = {\n",
    "    'root': {\n",
    "        'person': [\n",
    "            {\n",
    "                'name': 'Sudha',\n",
    "                'Role': 'Software Developer',\n",
    "                'age': '25',\n",
    "                'address': {\n",
    "                    'city': 'Texas',\n",
    "                    'country': 'USA'\n",
    "                }\n",
    "            },\n",
    "            {\n",
    "                'name': 'Teju',\n",
    "                'Role': 'Python Developer',\n",
    "                'age': '30',\n",
    "                'address': {\n",
    "                    'city': 'London',\n",
    "                    'country': 'UK'\n",
    "                }\n",
    "            }\n",
    "        ]\n",
    "    }\n",
    "}\n",
    "\n",
    "# Converting dictionary to XML\n",
    "xml_data = xmltodict.unparse(data_dict, pretty=True)\n",
    "\n",
    "# Printing the generated XML\n",
    "print(xml_data)\n"
   ]
  },
  {
   "attachments": {},
   "cell_type": "markdown",
   "metadata": {},
   "source": [
    "-as mentioned above first we need to import the xmltodict module.\n",
    "-to define a Python dictionary data_dict that represents the XML data.\n",
    "-then we convert the dictionary to XML using xmltodict.unparse(data_dict, pretty=True).\n",
    " -The pretty=True argument adds indentation and line breaks for a more readable output.\n",
    "-then i stored the generated XML data in the xml_data variable.\n",
    "then  printed the XML data.\n",
    "The xmltodict.unparse() function converts the dictionary to an XML string using the structure and data provided."
   ]
  },
  {
   "attachments": {},
   "cell_type": "markdown",
   "metadata": {},
   "source": [
    "changing dict to tuple using tuple function"
   ]
  },
  {
   "attachments": {},
   "cell_type": "markdown",
   "metadata": {},
   "source": [
    "Enhance it by changing the values of books dict as a tuple containing book_title, author and date\n",
    "    {\"0-596-00128-2\": (\"Python & XML\", \"Jones, Drake\", \"December 2001\")}"
   ]
  },
  {
   "cell_type": "code",
   "execution_count": 9,
   "metadata": {},
   "outputs": [
    {
     "name": "stdout",
     "output_type": "stream",
     "text": [
      "(('0-596-00128-2', ('Python & XML', 'Jones, Drake', 'December 2001')),)\n"
     ]
    }
   ],
   "source": [
    "# Dictionary\n",
    "books_dict = {\n",
    "    \"0-596-00128-2\": (\"Python & XML\", \"Jones, Drake\", \"December 2001\"),\n",
    "    \n",
    "}\n",
    "\n",
    "# Converting dictionary to tuple\n",
    "books_tuple = tuple(books_dict.items())\n",
    "\n",
    "# Printing the converted tuple\n",
    "print(books_tuple)\n"
   ]
  },
  {
   "attachments": {},
   "cell_type": "markdown",
   "metadata": {},
   "source": [
    "we have a dictionary books_dict where the keys are ISBNs and the values are tuples representing book information. We use the items() method of the dictionary to retrieve key-value pairs as tuples. Then, we pass the result to the tuple() function, which converts the iterable into a tuple."
   ]
  },
  {
   "cell_type": "code",
   "execution_count": 10,
   "metadata": {},
   "outputs": [
    {
     "data": {
      "text/plain": [
       "(('0-596-00128-2', ('Python & XML', 'Jones, Drake', 'December 2001')),)"
      ]
     },
     "execution_count": 10,
     "metadata": {},
     "output_type": "execute_result"
    }
   ],
   "source": [
    "(\n",
    "    (\"0-596-00128-2\", (\"Python & XML\", \"Jones, Drake\", \"December 2001\")),\n",
    "  \n",
    ")\n"
   ]
  },
  {
   "attachments": {},
   "cell_type": "markdown",
   "metadata": {},
   "source": [
    "The dictionary key-value pairs are now stored as tuples within the outer tuple. Each inner tuple contains the ISBN as the first element and the book information tuple as the second element"
   ]
  },
  {
   "cell_type": "code",
   "execution_count": 11,
   "metadata": {},
   "outputs": [
    {
     "name": "stdout",
     "output_type": "stream",
     "text": [
      "(('Python & XML', 'Jones, Drake', 'December 2001'),)\n"
     ]
    }
   ],
   "source": [
    "# Dictionary\n",
    "books_dict = {\n",
    "    \"0-596-00128-2\": (\"Python & XML\", \"Jones, Drake\", \"December 2001\"),\n",
    "   \n",
    "}\n",
    "\n",
    "# Converting dictionary values to tuple with title, author, and date\n",
    "books_tuple = tuple((value[0], value[1], value[2]) for value in books_dict.values())\n",
    "\n",
    "# Printing the converted tuple\n",
    "print(books_tuple)\n"
   ]
  }
 ],
 "metadata": {
  "kernelspec": {
   "display_name": "Python 3",
   "language": "python",
   "name": "python3"
  },
  "language_info": {
   "codemirror_mode": {
    "name": "ipython",
    "version": 3
   },
   "file_extension": ".py",
   "mimetype": "text/x-python",
   "name": "python",
   "nbconvert_exporter": "python",
   "pygments_lexer": "ipython3",
   "version": "3.10.4"
  },
  "orig_nbformat": 4
 },
 "nbformat": 4,
 "nbformat_minor": 2
}
