{
 "cells": [
  {
   "attachments": {},
   "cell_type": "markdown",
   "metadata": {},
   "source": [
    "PYTHONPATH\n"
   ]
  },
  {
   "attachments": {},
   "cell_type": "markdown",
   "metadata": {},
   "source": [
    "-PYTHONPATH is an environment variable in Python that specifies a list of directories where Python looks for modules and packages when executing Python code. \n",
    "-It is similar to the system's PATH variable but specific to Python.\n",
    "\n",
    "When you import a module or package in Python, the interpreter searches for it in the following order:\n",
    "\n",
    "1.The current directory (where the script is located).\n",
    "2.Directories listed in the PYTHONPATH environment variable.\n",
    "3.The standard library directories."
   ]
  },
  {
   "attachments": {},
   "cell_type": "markdown",
   "metadata": {},
   "source": [
    "MODULES\n"
   ]
  },
  {
   "attachments": {},
   "cell_type": "markdown",
   "metadata": {},
   "source": [
    "-The Module is defined as a file(Python Code,that defines functions, classes, and variables that can be reused in other Python programs.) that includes a set of variable functions and python statements that we add to our appliction\n",
    "-For Creating module first we need to save the file as .py extension"
   ]
  },
  {
   "cell_type": "code",
   "execution_count": 4,
   "metadata": {},
   "outputs": [
    {
     "name": "stdout",
     "output_type": "stream",
     "text": [
      "Sudha Rani\n"
     ]
    }
   ],
   "source": [
    "def fullname(name):\n",
    "    print(\"Sudha \" + name)\n",
    "\n",
    "fullname(\"Rani\")\n"
   ]
  },
  {
   "cell_type": "code",
   "execution_count": null,
   "metadata": {},
   "outputs": [],
   "source": []
  },
  {
   "cell_type": "code",
   "execution_count": 8,
   "metadata": {},
   "outputs": [],
   "source": [
    "# math_operations module in Jupyter Notebook\n",
    "\n",
    "def add(a, b):\n",
    "    return a + b\n",
    "\n",
    "def subtract(a, b):\n",
    "    return a - b\n",
    "\n",
    "def multiply(a, b):\n",
    "    return a * b\n",
    "\n",
    "def divide(a, b):\n",
    "    return a / b\n"
   ]
  },
  {
   "attachments": {},
   "cell_type": "markdown",
   "metadata": {},
   "source": [
    "TUPLE"
   ]
  },
  {
   "attachments": {},
   "cell_type": "markdown",
   "metadata": {},
   "source": []
  },
  {
   "attachments": {},
   "cell_type": "markdown",
   "metadata": {},
   "source": [
    "a tuple is an ordered, immutable collection of elements enclosed in parentheses (). Tuples are similar to lists, but unlike lists, they cannot be modified once created. Tuples are commonly used for grouping related data together."
   ]
  },
  {
   "cell_type": "code",
   "execution_count": 3,
   "metadata": {},
   "outputs": [
    {
     "name": "stdout",
     "output_type": "stream",
     "text": [
      "apple\n",
      "banana\n",
      "3\n",
      "(1, 2, 3)\n"
     ]
    },
    {
     "ename": "NameError",
     "evalue": "name 'ordinates' is not defined",
     "output_type": "error",
     "traceback": [
      "\u001b[0;31m---------------------------------------------------------------------------\u001b[0m",
      "\u001b[0;31mNameError\u001b[0m                                 Traceback (most recent call last)",
      "Cell \u001b[0;32mIn[3], line 17\u001b[0m\n\u001b[1;32m     15\u001b[0m coordinates \u001b[39m=\u001b[39m x, y, z  \u001b[39m# Tuple packing\u001b[39;00m\n\u001b[1;32m     16\u001b[0m \u001b[39mprint\u001b[39m(coordinates)   \u001b[39m# Output: (1, 2, 3)\u001b[39;00m\n\u001b[0;32m---> 17\u001b[0m \u001b[39mprint\u001b[39m(ordinates)\n\u001b[1;32m     19\u001b[0m a, b, c \u001b[39m=\u001b[39m coordinates  \u001b[39m# Tuple unpacking\u001b[39;00m\n\u001b[1;32m     20\u001b[0m \u001b[39mprint\u001b[39m(a)  \u001b[39m# Output: 1\u001b[39;00m\n",
      "\u001b[0;31mNameError\u001b[0m: name 'ordinates' is not defined"
     ]
    }
   ],
   "source": [
    "# Creating a tuple\n",
    "fruits = (\"apple\", \"banana\", \"cherry\")\n",
    "\n",
    "# Accessing elements using indexing\n",
    "print(fruits[0])  # Output: \"apple\"\n",
    "print(fruits[1])  # Output: \"banana\"\n",
    "\n",
    "# Length of a tuple\n",
    "print(len(fruits))  # Output: 3\n",
    "\n",
    "# Tuple packing and unpacking\n",
    "x = 1\n",
    "y = 2\n",
    "z = 3\n",
    "coordinates = x, y, z  # Tuple packing\n",
    "print(coordinates)   # Output: (1, 2, 3)\n",
    "\n",
    "\n",
    "a, b, c = coordinates  # Tuple unpacking\n",
    "print(a)  # Output: 1\n",
    "print(b)  # Output: 2\n",
    "print(c)  # Output: 3\n",
    "\n",
    "# Iterating over a tuple\n",
    "for fruit in fruits:\n",
    "    print(fruit)\n",
    "\n",
    "# Multiple occurrences of a value in a tuple\n",
    "repeated_tuple = (1, 2, 3, 2, 1)\n",
    "print(repeated_tuple.count(2))  # Output: 2\n"
   ]
  },
  {
   "cell_type": "code",
   "execution_count": 1,
   "metadata": {},
   "outputs": [
    {
     "name": "stdout",
     "output_type": "stream",
     "text": [
      "John\n",
      "25\n",
      "USA\n",
      "John\n",
      "25\n",
      "USA\n",
      "('Mike', 25, 'USA')\n",
      "('apple', 10, True)\n"
     ]
    }
   ],
   "source": [
    "# Creating a tuple\n",
    "person = ('John', 25, 'USA')\n",
    "\n",
    "# Accessing elements of a tuple\n",
    "print(person[0])  # Output: John\n",
    "print(person[1])  # Output: 25\n",
    "print(person[2])  # Output: USA\n",
    "\n",
    "# Tuples can also be unpacked into multiple variables\n",
    "name, age, country = person\n",
    "print(name)      # Output: John\n",
    "print(age)       # Output: 25\n",
    "print(country)   # Output: USA\n",
    "\n",
    "# Tuples are immutable, so you can't modify them directly\n",
    "# person[0] = 'Mike'  # This would result in an error\n",
    "\n",
    "# However, you can create a new tuple with modified values\n",
    "modified_person = ('Mike', person[1], person[2])\n",
    "print(modified_person)  # Output: ('Mike', 25, 'USA')\n",
    "\n",
    "# Tuples can contain elements of different types\n",
    "mixed_tuple = ('apple', 10, True)\n",
    "print(mixed_tuple)  # Output: ('apple', 10, True)\n"
   ]
  }
 ],
 "metadata": {
  "kernelspec": {
   "display_name": "Python 3",
   "language": "python",
   "name": "python3"
  },
  "language_info": {
   "codemirror_mode": {
    "name": "ipython",
    "version": 3
   },
   "file_extension": ".py",
   "mimetype": "text/x-python",
   "name": "python",
   "nbconvert_exporter": "python",
   "pygments_lexer": "ipython3",
   "version": "3.10.4"
  },
  "orig_nbformat": 4
 },
 "nbformat": 4,
 "nbformat_minor": 2
}
